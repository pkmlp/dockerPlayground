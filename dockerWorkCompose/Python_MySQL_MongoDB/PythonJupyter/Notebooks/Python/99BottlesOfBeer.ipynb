{
 "cells": [
  {
   "cell_type": "markdown",
   "metadata": {},
   "source": [
    "# 99 Bottles of Beer ..."
   ]
  },
  {
   "cell_type": "markdown",
   "metadata": {},
   "source": [
    "99 Bottles of Beer ist ein Folksong, der in den USA und Kanada besonders bei langen Ausflügen gesungen wird. "
   ]
  },
  {
   "cell_type": "markdown",
   "metadata": {},
   "source": [
    "![](99bottles_5.jpg)"
   ]
  },
  {
   "cell_type": "markdown",
   "metadata": {},
   "source": [
    "Er folgt dem Muster:\n",
    "\n",
    "\n",
    ">99 bottles of beer on the wall, 99 bottles of beer.  \n",
    ">Take one down, pass it around, 98 bottles of beer on the wall. \n",
    "\n",
    "Das Lied wiederholt Strophe für Strophe in gleicher Art, bis zu den letzten beiden Strophen, die jeweils leicht unterschiedlich sind. Dabei sieht die zweitletzte Strophe wie folgt aus:\n",
    "\n",
    ">2 bottles of beer on the wall, 2 bottles of beer.  \n",
    ">Take 1 down, pass it around, 1 bottle of beer on the wall. \n",
    "\n",
    "Beachte Einzahl/Mehrzahl der Flaschen, abhängig von der Anzahl der Flaschen. In diesem und nur in diesem Punkte unterscheidet sich die zweitletzte Strophe von allen vorhergehenden. Die letzte Strophe sieht dann komplett anders aus:\n",
    "\n",
    ">1 (last) bottle of beer on the wall, 1 (last) bottle of beer.  \n",
    ">Take it down, pass it around, No (more) bottles of beer on the wall. \n",
    "\n",
    "Um die Singzeit zu verlängern, kann das Lied ergänzt werden um:\n",
    "\n",
    ">No more bottles of beer on the wall, No more bottles of beer.  \n",
    ">Go to the store and buy some more, Ninety-nine bottles of beer on the wall.\n",
    "\n",
    "\n",
    "Der komplette Liedtext ist zu finden unter:\n",
    "><http://www.99-bottles-of-beer.net/lyrics.html>\n"
   ]
  },
  {
   "cell_type": "markdown",
   "metadata": {},
   "source": [
    "Ähnlich wie das Hallo-Welt-Programm wird der Text auch gerne programmiert. Eigens zu diesem Zweck wurde von vielen Enthusiasten eigene Webseiten dazu eingerichtet. So unter anderem:\n",
    "\n",
    "><http://www.99-bottles-of-beer.net/>    \n",
    "><https://rosettacode.org/wiki/99_Bottles_of_Beer>\n",
    "\n"
   ]
  },
  {
   "cell_type": "markdown",
   "metadata": {},
   "source": [
    "Nachfolgend einige Beispiel-Programme in Python. Die Aufgabe ist die, dass der vom Programm ausgegebene Text als Liedbuch verwendet (ausgedruckt) werden kann. \n"
   ]
  },
  {
   "cell_type": "markdown",
   "metadata": {},
   "source": [
    "**Hinweis:** Um den Output des Programmes einigermassen übersichtlich zu halten, wird in den kommenden Beispielen das Lied nicht mit 99 Flaschen Bier gestartet, sondern lediglich mit 5. Bei Bedarf kann der Programm-Code jedoch sehr einfach auf die gewünschte Anzahl Flaschen angepasst werden."
   ]
  },
  {
   "cell_type": "markdown",
   "metadata": {},
   "source": [
    "## Variante 1"
   ]
  },
  {
   "cell_type": "code",
   "execution_count": null,
   "metadata": {
    "scrolled": true
   },
   "outputs": [],
   "source": [
    "for beers in range(5, 0, -1):\n",
    "    print(beers, \"bottle(s) of beer on the wall,\", beers, \"bottle(s) of beer,\")\n",
    "    print(\"Take one down, pass it around,\", beers-1, \"bottle(s) of beer on the wall. \\n\")\n",
    "print(\"No more bottles of beer on the wall, No more bottles of beer,\")\n",
    "print(\"Go to the store, buy some more, 99 bottles of beer on the wall.\")\n"
   ]
  },
  {
   "cell_type": "markdown",
   "metadata": {},
   "source": [
    "Eine sehr rudimentäre Variante, in der die \"Feinheiten\" der Rechtschreibung (Einzahl/Mehrzahl der Flaschen) elegant umgangen werden."
   ]
  },
  {
   "cell_type": "markdown",
   "metadata": {},
   "source": [
    "## Variante 2"
   ]
  },
  {
   "cell_type": "code",
   "execution_count": null,
   "metadata": {},
   "outputs": [],
   "source": [
    "for beers in range(5, 0, -1):\n",
    "    if beers == 1:\n",
    "        print(beers, \"bottle of beer on the wall,\", beers, \"bottle of beer.\")\n",
    "        print(\"Take one down, pass it around, no more bottles of beer on the wall. \\n\")\n",
    "    elif beers == 2:\n",
    "        print(beers, \"bottles of beer on the wall,\", beers, \"bottles of beer.\")\n",
    "        print(\"Take one down, pass it around,\", beers-1, \"bottle of beer on the wall. \\n\")\n",
    "    else:\n",
    "        print(beers, \"bottles of beer on the wall,\", beers, \"bottles of beer.\")\n",
    "        print(\"Take one down, pass it around,\", beers-1, \"bottles of beer on the wall. \\n\")\n",
    "print(\"No more bottles of beer on the wall, No more bottles of beer,\")\n",
    "print(\"Go to the store, buy some more, 99 bottles of beer on the wall.\")\n"
   ]
  },
  {
   "cell_type": "markdown",
   "metadata": {},
   "source": [
    "Diese Variante berücksichtigt die Rechtschreibung (Einzahl/Mehrzahl der Flaschen), die Art der Schlaufe ist die gleiche wie in Variante 1. Für die Berücksichtigung der unterschiedlichen Fälle für die Rechtschreibung, wurde eine 3-Fach-Selektion (if--elif--else) eingesetzt.\n",
    "\n",
    "Beachte die obige Beschreibung des Trinkliedes. Auch dort werden die zweitletzte und die letzte Strophe separat gezeigt, weil dies beiden sich (wenn auch nur minim) von den vielen vorhergehenden Strophen unterscheiden. Die Schlussstrophe des Liedes (ebenfalls separat gezeigt oben) wird einmal am Schluss gesungen (resp. ausgegeben). \n",
    "\n",
    "Man könnte sagen: Diese Variante bildet die einzelnen Strophen-Arten ab. Sobald bei einer bestimmten Anzahl von Flaschen die Strophe eine Änderung (wenn auch nur minim) erfährt, wird die Strophe als Ganzes separat bearbeitet."
   ]
  },
  {
   "cell_type": "markdown",
   "metadata": {},
   "source": [
    "## Variante 3"
   ]
  },
  {
   "cell_type": "code",
   "execution_count": null,
   "metadata": {},
   "outputs": [],
   "source": [
    "for beers in range(5, 0, -1):\n",
    "    if beers == 1:\n",
    "        print(beers, \"bottle of beer on the wall,\", beers, \"bottle of beer.\")\n",
    "    else:\n",
    "        print(beers, \"bottles of beer on the wall,\", beers, \"bottles of beer.\")\n",
    "    if beers == 1:\n",
    "        print(\"Take one down, pass it around, no more bottles of beer on the wall. \\n\")\n",
    "    elif beers == 2:\n",
    "        print(\"Take one down, pass it around,\", beers-1, \"bottle of beer on the wall. \\n\")\n",
    "    else:\n",
    "        print(\"Take one down, pass it around,\", beers-1, \"bottles of beer on the wall. \\n\")\n",
    "print(\"No more bottles of beer on the wall, No more bottles of beer,\")\n",
    "print(\"Go to the store, buy some more, 99 bottles of beer on the wall.\")\n"
   ]
  },
  {
   "cell_type": "markdown",
   "metadata": {},
   "source": [
    "Auch diese Variante berücksichtigt die Rechtschreibung (Einzahl/Mehrzahl der Flaschen), die Art der Schlaufe ist die gleiche wie in den Varianten 1 und 2. Für die Berücksichtigung der unterschiedlichen Fälle für die Rechtschreibung, wurden jedoch eine einfache Selektion (if--else) und eine 3-Fach-Selektion (if--elif--else) eingesetzt.\n",
    "\n",
    "Man könnte sagen: Diese Variante kümmert sich nicht um die ganzen Strophen, sondern nur um die einzelnen Zeilen einer Strophe. Es wird zuerst die erste Zeile der Strophe und dann die zweite Zeile der Strophe aufbereite und ausgegeben. Wie man sieht, gibt es von der ersten Zeile einer Strophe zwei verschiedenen Varianten, von der zweiten Zeile einer Strophe gibt es drei verschiedene Varianten. "
   ]
  },
  {
   "cell_type": "markdown",
   "metadata": {},
   "source": [
    "## Variante 4"
   ]
  },
  {
   "cell_type": "code",
   "execution_count": null,
   "metadata": {},
   "outputs": [],
   "source": [
    "beers = 5\n",
    "while beers > 0:\n",
    "    if beers == 1:\n",
    "        print(beers, \"bottle of beer on the wall,\", beers, \"bottle of beer.\")\n",
    "        print(\"Take one down, pass it around,\", beers-1, \"bottles of beer on the wall. \\n\")\n",
    "    elif beers == 2:\n",
    "        print(beers, \"bottles of beer on the wall,\", beers, \"bottles of beer.\")\n",
    "        print(\"Take one down, pass it around,\", beers-1, \"bottle of beer on the wall. \\n\")\n",
    "    else:\n",
    "        print(beers, \"bottles of beer on the wall,\", beers, \"bottles of beer.\")\n",
    "        print(\"Take one down, pass it around,\", beers-1, \"bottles of beer on the wall. \\n\")\n",
    "    beers = beers-1\n",
    "print(\"No more bottles of beer on the wall, No more bottles of beer.\")\n",
    "print(\"Go to the store, buy some more, 99 bottles of beer on the wall.\")\n"
   ]
  },
  {
   "cell_type": "markdown",
   "metadata": {},
   "source": [
    "Diese Variante bearbeitet die unterschiedlichen Strophen analog der Variante 2. Die Schlaufe (while-Schlaufe) ist jedoch anders als die in den vorangehenden Varianten (for-Schleife). Der wichtigste Unterschied ist der, dass die Variable für die Schlaufensteuerung selber \"gemanaged\" wird."
   ]
  },
  {
   "cell_type": "markdown",
   "metadata": {},
   "source": [
    "## Variante 5"
   ]
  },
  {
   "cell_type": "markdown",
   "metadata": {},
   "source": [
    "In der letzten Variante wollen wir unseren Liedtext noch dahingehend ändern, dass die Anzahl der Flaschen jeweils in Textform und nicht mit den jewiligen Ziffern ausgegeben wird:\n",
    "\n",
    ">Ninety-Nine bottles of beer on the wall, Ninety-Nine bottles of beer.  \n",
    ">Take one down, pass it around, Ninety-Eight bottles of beer on the wall. \n",
    "\n",
    "Das Lied wiederholt Strophe für Strophe in gleicher Art, bis zu den letzten beiden Strophen. Dabei sieht die zweitletzte Strophe wie folgt aus:\n",
    "\n",
    ">Two bottles of beer on the wall, Two bottles of beer.  \n",
    ">Take one down, pass it around, One bottle of beer on the wall. \n",
    "\n",
    "Beachte Einzahl/Mehrzahl der Flaschen, abhängig von der Anzahl der Flaschen. In diesem und nur in diesem Punkte unterscheidet sich die zweitletzte Strophe von allen vorhergehenden. Die letzte Strophe sieht dann komplett anders aus:\n",
    "\n",
    ">One (last) bottle of beer on the wall, One (last) bottle of beer.  \n",
    ">Take it down, pass it around, No (more) bottles of beer on the wall. \n",
    "\n",
    "Um die Singzeit zu verlängern, kann das Lied ergänzt werden um:\n",
    "\n",
    ">No more bottles of beer on the wall, No more bottles of beer.  \n",
    ">Go to the store and buy some more, Ninety-nine bottles of beer on the wall.\n",
    "\n"
   ]
  },
  {
   "cell_type": "markdown",
   "metadata": {},
   "source": [
    "Um das zu machen erstellen wir am besten eine Funktion, die eine Zahl (Anzahl der Flaschen) in den entsprechenden Text umwandelt. "
   ]
  },
  {
   "cell_type": "code",
   "execution_count": null,
   "metadata": {},
   "outputs": [],
   "source": [
    "def zahl2text(zahl):\n",
    "    text = \"\"\n",
    "    if (zahl < 20):\n",
    "        if zahl == 1:\n",
    "            text = \"One\"\n",
    "        elif (zahl == 2):\n",
    "            text = \"Two\"\n",
    "        elif (zahl == 3):\n",
    "            text = \"Three\"\n",
    "        elif (zahl == 4):\n",
    "            text = \"Four\"\n",
    "        elif (zahl == 5):\n",
    "            text = \"Five\"\n",
    "        elif (zahl == 6):\n",
    "            text = \"Six\"\n",
    "        elif (zahl == 7):\n",
    "            text = \"Seven\"\n",
    "        elif (zahl == 8):\n",
    "            text = \"Eight\"\n",
    "        elif (zahl == 9):\n",
    "            text = \"Nine\"\n",
    "        elif (zahl == 10):\n",
    "            text = \"Ten\"\n",
    "        elif (zahl ==11):\n",
    "            text = \"Eleven\"\n",
    "        elif (zahl == 12):\n",
    "            text = \"Twelf\"\n",
    "        elif (zahl == 13):\n",
    "            text = \"Thirdteen\"\n",
    "        elif (zahl == 14):\n",
    "            text = \"Fourteen\"\n",
    "        elif (zahl == 15):\n",
    "            text = \"Fivteen\"\n",
    "        elif (zahl == 16):\n",
    "            text = \"Sixteen\"\n",
    "        elif (zahl == 17):\n",
    "            text = \"Seventeen\"\n",
    "        elif (zahl == 18):\n",
    "            text = \"Eighteen\"\n",
    "        else:\n",
    "            text = \"Nineteen\"\n",
    "\n",
    "    else:\n",
    "        Zehner = zahl//10\n",
    "        if (Zehner == 2):\n",
    "            text = \"Twenty\"\n",
    "        elif (Zehner == 3):\n",
    "            text = \"Thirty\"\n",
    "        elif (Zehner == 4):\n",
    "            text = \"Forty\"\n",
    "        elif (Zehner == 5):\n",
    "            text = \"Forty\"\n",
    "        elif (Zehner == 6):\n",
    "            text = \"Sixty\"\n",
    "        elif (Zehner == 7):\n",
    "            text = \"Seventy\"\n",
    "        elif (Zehner == 8):\n",
    "            text = \"Eighty\"\n",
    "        elif (Zehner == 9):\n",
    "            text = \"Ninty\"\n",
    "        \n",
    "        Einer = zahl%10\n",
    "        if (Einer == 0):\n",
    "            pass\n",
    "        elif (Einer == 1):\n",
    "            text = text + \"-One\"\n",
    "        elif (Einer == 2):\n",
    "            text = text + \"-Two\"\n",
    "        elif (Einer == 3):\n",
    "            text = text + \"-Three\"\n",
    "        elif (Einer == 4):\n",
    "            text = text + \"-Four\"\n",
    "        elif (Einer == 5):\n",
    "            text = text + \"-Five\"\n",
    "        elif (Einer == 6):\n",
    "            text = text + \"-Six\"\n",
    "        elif (Einer == 7):\n",
    "            text = text + \"-Seven\"\n",
    "        elif (Einer == 8):\n",
    "            text = text + \"-Eight\"\n",
    "        else:\n",
    "            text = text + \"-Nine\"\n",
    "\n",
    "    return text\n",
    "    \n",
    "    \n",
    "beers = 99\n",
    "while beers > 0:\n",
    "    if beers == 1:\n",
    "        print(zahl2text(beers), \"bottle of beer on the wall,\",zahl2text(beers), \"bottle of beer.\")\n",
    "        print(\"Take one down, pass it around, no more bottles of beer on the wall. \\n\")\n",
    "    elif beers == 2:\n",
    "        print(zahl2text(beers), \"bottles of beer on the wall,\", zahl2text(beers), \"bottles of beer.\")\n",
    "        print(\"Take one down, pass it around,\", zahl2text(beers-1), \"bottle of beer on the wall. \\n\")\n",
    "    else:\n",
    "        print(zahl2text(beers), \"bottles of beer on the wall,\", zahl2text(beers), \"bottles of beer.\")\n",
    "        print(\"Take one down, pass it around,\", zahl2text(beers-1), \"bottles of beer on the wall. \\n\")\n",
    "    beers = beers-1\n",
    "print(\"No more bottles of beer on the wall, no more bottles of beer.\")\n",
    "print(\"Go to the store, buy some more, 99 bottles of beer on the wall.\")\n"
   ]
  },
  {
   "cell_type": "markdown",
   "metadata": {},
   "source": [
    "Um zu sehen, dass auch wirklich jede Zahl korrekt in Text umgewandelt wird, trinken (äähhh zählen) wir hier alle 99 Flaschen durch."
   ]
  },
  {
   "cell_type": "markdown",
   "metadata": {},
   "source": [
    "## Fazit"
   ]
  },
  {
   "cell_type": "markdown",
   "metadata": {},
   "source": [
    "In der Programmierung gilt:\n",
    "\n",
    "\n",
    ">***\"Soviele Personen ein Programm schreiben, so viele verschiedene Varianten wird es davon geben.\" ***\n",
    "    "
   ]
  },
  {
   "cell_type": "markdown",
   "metadata": {},
   "source": [
    "Und wie Steve selig schon zu sagen pflegte:\n",
    "\n",
    "![](99bottles_6.jpg)"
   ]
  },
  {
   "cell_type": "markdown",
   "metadata": {},
   "source": [
    "## Schlusswort"
   ]
  },
  {
   "cell_type": "markdown",
   "metadata": {},
   "source": [
    "Und dann gibt es auch immer wieder Situationen, in denen man froh ist, dieses Lied zu kennen:\n",
    "\n",
    "![](99bottles_3.jpg)"
   ]
  },
  {
   "cell_type": "markdown",
   "metadata": {},
   "source": [
    "Wenn Dich das überzeugt hat und Du nun Deine \"Verbundenheit\" zu diesem Lied zum Ausdruck bringen willst, gibt es auch entsprechende T-Shirts:\n",
    "\n",
    "![](99bottles_4.jpg)\n"
   ]
  },
  {
   "cell_type": "markdown",
   "metadata": {},
   "source": [
    "# Aber Achtung ..."
   ]
  },
  {
   "cell_type": "markdown",
   "metadata": {},
   "source": [
    "![](99bottles_7.svg)"
   ]
  }
 ],
 "metadata": {
  "kernelspec": {
   "display_name": "Python 3",
   "language": "python",
   "name": "python3"
  },
  "language_info": {
   "codemirror_mode": {
    "name": "ipython",
    "version": 3
   },
   "file_extension": ".py",
   "mimetype": "text/x-python",
   "name": "python",
   "nbconvert_exporter": "python",
   "pygments_lexer": "ipython3",
   "version": "3.6.1"
  }
 },
 "nbformat": 4,
 "nbformat_minor": 1
}
