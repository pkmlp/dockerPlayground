{
 "cells": [
  {
   "cell_type": "markdown",
   "metadata": {},
   "source": [
    "# Python und MongoDB"
   ]
  },
  {
   "cell_type": "markdown",
   "metadata": {},
   "source": [
    "Dieses Beispiel setzt einen laufenden MongoDB-Server mit aktivierter Authentifizierung voraus. "
   ]
  },
  {
   "cell_type": "markdown",
   "metadata": {},
   "source": [
    "## Erstellen der Verbindung zum Datenbank Server "
   ]
  },
  {
   "cell_type": "markdown",
   "metadata": {},
   "source": [
    "Um aus Python auf eine NoSQL-Datenbank (hier MongoDB) zugreifen zu können, muss die entsprechende Bibliothek eingebunden werden. "
   ]
  },
  {
   "cell_type": "code",
   "execution_count": null,
   "metadata": {
    "collapsed": true
   },
   "outputs": [],
   "source": [
    "import pymongo"
   ]
  },
  {
   "cell_type": "markdown",
   "metadata": {},
   "source": [
    "Definition der Datenbank-Parameter als Konstanten\n",
    "\n",
    "Hinweis: In Docker mit \"docker inspect Mongo_Server\" die IP-Adresse ermitteln."
   ]
  },
  {
   "cell_type": "code",
   "execution_count": null,
   "metadata": {
    "collapsed": true
   },
   "outputs": [],
   "source": [
    "DATABASE_HOST      =  \"172.18.0.3\"\n",
    "DATABASE_PORT      =  \"27017\"\n",
    "DATABASE_USER      =  \"mongoAdmin\"\n",
    "DATABASE_PASSWORT  =  \"pkmlp\"\n",
    "DATABASE_NAME      =  \"meineDatenbank\"\n",
    "COLLECTION_NAME    =  \"meineSammlung\"\n",
    "AUTH_DATABASE      =  \"admin\""
   ]
  },
  {
   "cell_type": "markdown",
   "metadata": {},
   "source": [
    "Als nächstes muss eine Verbindung zur Datenbank (mit gültigen Credentials) hergestellt werden.  "
   ]
  },
  {
   "cell_type": "code",
   "execution_count": null,
   "metadata": {},
   "outputs": [],
   "source": [
    "try:\n",
    "    dbVerbindung = pymongo.MongoClient('mongodb://'+DATABASE_USER+':'+DATABASE_PASSWORT+'@'+\n",
    "                                                    DATABASE_HOST+':'+DATABASE_PORT+'/'+AUTH_DATABASE)\n",
    "    print(\"\\nVerbindung zu MongoDB erstellt\\n\")\n",
    "except pymongo.errors.ConnectionFailure as VerbindungsFehler:\n",
    "    print(\"\\nKeine Verbindung zu MongoDB: \", VerbindungsFehler, \" - Programmabbruch\\n\")"
   ]
  },
  {
   "cell_type": "markdown",
   "metadata": {},
   "source": [
    "## Auswählen der Datenbank und der Sammlung"
   ]
  },
  {
   "cell_type": "markdown",
   "metadata": {},
   "source": [
    "Verbindung konnte erstellt werden, nun die Datenbank ..."
   ]
  },
  {
   "cell_type": "code",
   "execution_count": null,
   "metadata": {
    "collapsed": true
   },
   "outputs": [],
   "source": [
    "db = dbVerbindung[DATABASE_NAME]"
   ]
  },
  {
   "cell_type": "markdown",
   "metadata": {},
   "source": [
    "... und die Collection in der Datenbank wählen"
   ]
  },
  {
   "cell_type": "code",
   "execution_count": null,
   "metadata": {
    "collapsed": true
   },
   "outputs": [],
   "source": [
    "sammlung = db[COLLECTION_NAME]"
   ]
  },
  {
   "cell_type": "markdown",
   "metadata": {},
   "source": [
    "### Kontrolliere in MongoClient, MongoBooster oder im mongo Terminal ob die Collection wirklich leer ist."
   ]
  },
  {
   "cell_type": "markdown",
   "metadata": {},
   "source": [
    "Die Collection muss nicht zwingend leer sein. Ist sie es nicht, so muss der Anfangs-Datenbestand berücksichtigt werden. Das heisst, die nachfolgend eingefügten (Create), gelesenen (Read), mutierten (Update) und gelöschten (Delete) Dokumente sind immer auch mit den allenfalls bereits vorhandenen Dokumenten \"zu sehen\". Dieses Beispiel ist besser zu Interpretieren, wenn die Sammlung vor Beginn leer ist."
   ]
  },
  {
   "cell_type": "markdown",
   "metadata": {},
   "source": [
    "Definieren von 4 einzelnen Dokumenten. Beachte: die Dokumente müssen nicht eine einheitliche Struktur (gleiche Attribute) haben. "
   ]
  },
  {
   "cell_type": "code",
   "execution_count": null,
   "metadata": {
    "collapsed": true
   },
   "outputs": [],
   "source": [
    "dokument_1 = {\"Name\":\"Kessler\", \"Vorname\":\"Peter\", \"Mail\":\"peter@trueworld.ch\"}\n",
    "dokument_2 = {\"Name\":\"Kessler\", \"Vorname\":\"Paul\",  \"Mail\":\"paul@trueworld.ch\"}\n",
    "dokument_3 = {\"Name\":\"Meier\",   \"Vorname\":\"peter\", \"Mail\":\"meier@trueworld.ch\"}\n",
    "dokument_4 = {\"Name\":\"Enz\",     \"Vorname\":\"Hugo\",  \"Mobile\":\"044 333 22 11\"}"
   ]
  },
  {
   "cell_type": "markdown",
   "metadata": {},
   "source": [
    "## Einfügen von Dokumenten in die Sammlung (Collection) der Datenbank"
   ]
  },
  {
   "cell_type": "markdown",
   "metadata": {},
   "source": [
    "Einfügen der einzeln definierten Dokumente in die Datenbank/Collection"
   ]
  },
  {
   "cell_type": "code",
   "execution_count": null,
   "metadata": {},
   "outputs": [],
   "source": [
    "insertedKey = sammlung.insert_one(dokument_1)\n",
    "print(\"\\nPrimekey des eingefügten Dokumentes: \", insertedKey.inserted_id)\n",
    "\n",
    "insertedKey = sammlung.insert_one(dokument_2)\n",
    "print(\"Primekey des eingefügten Dokumentes: \", insertedKey.inserted_id)\n",
    "\n",
    "insertedKey = sammlung.insert_one(dokument_3)\n",
    "print(\"Primekey des eingefügten Dokumentes: \", insertedKey.inserted_id)\n",
    "\n",
    "insertedKey = sammlung.insert_one(dokument_4)\n",
    "print(\"Primekey des eingefügten Dokumentes: \", insertedKey.inserted_id)"
   ]
  },
  {
   "cell_type": "markdown",
   "metadata": {},
   "source": [
    "Definieren einer Liste mit mehreren Dokumenten"
   ]
  },
  {
   "cell_type": "code",
   "execution_count": null,
   "metadata": {
    "collapsed": true
   },
   "outputs": [],
   "source": [
    "sammelDokument = [\n",
    "    {\"Name\":\"Müller\",     \"Vorname\":\"Ralf\",  \"Mail\":\"ralf@pkmlp.ch\"},\n",
    "    {\"Name\":\"Hanselmann\", \"Vorname\":\"Karl\",  \"Mail\":\"khanselmann@pkmlp.ch\"},\n",
    "    {\"Name\":\"Bitbeisser\", \"Vorname\":\"Bodo\",  \"Mail\":\"bodo@bitbeisser.ch\"},\n",
    "    {\"Name\":\"Consani\",    \"Vorname\":\"Fabio\", \"Mobile\":\"044 999 88 77\"}\n",
    "]"
   ]
  },
  {
   "cell_type": "markdown",
   "metadata": {},
   "source": [
    "Einfügen der Liste mit den Dokumenten in die Datenbank/Collection"
   ]
  },
  {
   "cell_type": "code",
   "execution_count": null,
   "metadata": {
    "collapsed": true
   },
   "outputs": [],
   "source": [
    "insertedKeys = sammlung.insert_many(sammelDokument)\n",
    "print(\"\\nArray der Primekeys der eingefügten Dokumente: \")\n",
    "print(insertedKeys.inserted_ids)\n",
    "\n",
    "print(\"\\nPrimekeys der eingefügten Dokumente einzeln: \")\n",
    "for i in range(0, len(insertedKeys.inserted_ids)):\n",
    "    print(insertedKeys.inserted_ids[i])"
   ]
  },
  {
   "cell_type": "markdown",
   "metadata": {},
   "source": [
    "### Kontrolliere in MongoClient, MongoBooster oder im mongo Terminal die Collection."
   ]
  },
  {
   "cell_type": "markdown",
   "metadata": {},
   "source": [
    "War die Sammlung zu Beginn leer, so dürfen jetzt nur die 8 obigen Dokumente darin sein. War die Sammlung zu Beginn nicht leer, so sind jetzt zusätzlich zu den bereits vorhandenen Dokumenten die obigen 8 in der Sammlung."
   ]
  },
  {
   "cell_type": "markdown",
   "metadata": {},
   "source": [
    "## Suchen und Zählen von Dokumenten in der Sammlung"
   ]
  },
  {
   "cell_type": "code",
   "execution_count": null,
   "metadata": {
    "collapsed": true
   },
   "outputs": [],
   "source": [
    "anzDokumente = sammlung.find().count()\n",
    "print(\"Die Sammlung enthält\",anzDokumente, \"Dokumente\\n\")"
   ]
  },
  {
   "cell_type": "markdown",
   "metadata": {},
   "source": [
    "Zählen der Dokumente mit einer Mailadresse"
   ]
  },
  {
   "cell_type": "code",
   "execution_count": null,
   "metadata": {
    "collapsed": true
   },
   "outputs": [],
   "source": [
    "anzDokumente = sammlung.find({\"Mail\":{\"$exists\":True}}).count()\n",
    "print(\"Die Sammlung enthält\",anzDokumente, \"Dokumente mit Mailadresse\\n\")"
   ]
  },
  {
   "cell_type": "markdown",
   "metadata": {},
   "source": [
    "Zählen der Dokumente die keine Mailadfresse enthalten"
   ]
  },
  {
   "cell_type": "code",
   "execution_count": null,
   "metadata": {
    "collapsed": true
   },
   "outputs": [],
   "source": [
    "anzDokumente = sammlung.find({\"Mail\":{\"$exists\":False}}).count()\n",
    "print(\"Die Sammlung enthält\",anzDokumente, \"Dokumente ohne Mailadresse\\n\")"
   ]
  },
  {
   "cell_type": "markdown",
   "metadata": {},
   "source": [
    "Zählen der Dokumente die im Attribut (Field) Vorname \"Peter\" enthalten"
   ]
  },
  {
   "cell_type": "code",
   "execution_count": null,
   "metadata": {
    "collapsed": true
   },
   "outputs": [],
   "source": [
    "anzDokumente = sammlung.find({\"Vorname\":\"Peter\"}).count()\n",
    "print(\"Davon entsprechen\",anzDokumente,\"dem Suchkriterium: Vorname = Peter\\n\")"
   ]
  },
  {
   "cell_type": "markdown",
   "metadata": {},
   "source": [
    "Suchen und zählen von Dokumenten in der Datenbank/Collection"
   ]
  },
  {
   "cell_type": "code",
   "execution_count": null,
   "metadata": {
    "collapsed": true
   },
   "outputs": [],
   "source": [
    "suchKriterium = {\"Name\":\"Kessler\"}\n",
    "anzDokumente = sammlung.find(suchKriterium).count()\n",
    "print(\"Davon entsprechen\",anzDokumente,\"dem Suchkriterium:\",suchKriterium,\"\\n\")"
   ]
  },
  {
   "cell_type": "code",
   "execution_count": null,
   "metadata": {
    "collapsed": true
   },
   "outputs": [],
   "source": [
    "suchKey = \"Name\"\n",
    "suchWert = \"Kessler\"\n",
    "anzDokumente = sammlung.find({suchKey:suchWert}).count()\n",
    "print(\"Davon entsprechen\",anzDokumente,\"dem Suchkriterium:\",suchKey,\"=\",suchWert,\"\\n\")"
   ]
  },
  {
   "cell_type": "code",
   "execution_count": null,
   "metadata": {
    "collapsed": true
   },
   "outputs": [],
   "source": [
    "suchKey = \"Vorname\"\n",
    "suchWert = \"Hugo\"\n",
    "suchKriterium = {suchKey:suchWert}\n",
    "anzDokumente = sammlung.find(suchKriterium).count()\n",
    "print(\"Davon entsprechen\",anzDokumente,\"dem Suchkriterium:\",suchKey,\"=\",suchWert,\"\\n\")"
   ]
  },
  {
   "cell_type": "code",
   "execution_count": null,
   "metadata": {
    "collapsed": true
   },
   "outputs": [],
   "source": [
    "suchKey = \"Vorname\"\n",
    "suchWert = \"Paul\"\n",
    "print(\"Davon entsprechen\",sammlung.find({suchKey:suchWert}).count(),\n",
    "      \"dem Suchkriterium:\",suchKey,\"=\",suchWert,\"\\n\")"
   ]
  },
  {
   "cell_type": "markdown",
   "metadata": {},
   "source": [
    "## Lesen und Ausgeben von Dokumenten in der Sammlung "
   ]
  },
  {
   "cell_type": "markdown",
   "metadata": {},
   "source": [
    "Lesen aller Dokumente aus der Datenbank\n",
    "Hinweis: Die Reihenfolge der einzelnen Attribute in einer Zeile sind nicht definiert.\n",
    "Darum müssen Attribute gezielt mit dem Key aus dem Cursor gelesen werden."
   ]
  },
  {
   "cell_type": "code",
   "execution_count": null,
   "metadata": {
    "collapsed": true
   },
   "outputs": [],
   "source": [
    "print(\"Lesen aller Dokumente nach Einfuegen\")\n",
    "dokumentCursor = sammlung.find()\n",
    "for dokument in dokumentCursor:\n",
    "    print(dokument)"
   ]
  },
  {
   "cell_type": "code",
   "execution_count": null,
   "metadata": {
    "collapsed": true
   },
   "outputs": [],
   "source": [
    "print(\"\\nLesen aller Dokumente aber nur Attributswerte ausgeben\")\n",
    "dokumentCursor = sammlung.find()\n",
    "for dokument in dokumentCursor:\n",
    "    print(dokument.get(\"Name\"), dokument.get(\"Vorname\"), dokument.get(\"Mail\", \"keine Mailadresse\"))"
   ]
  },
  {
   "cell_type": "code",
   "execution_count": null,
   "metadata": {
    "collapsed": true
   },
   "outputs": [],
   "source": [
    "print(\"\\nLesen aller Dokumente absteigend sortiert nach Vorname\")\n",
    "dokumentCursor = sammlung.find().sort(\"Vorname\",-1)\n",
    "for dokument in dokumentCursor:\n",
    "    print(dokument.get(\"Name\"), dokument.get(\"Vorname\"), dokument.get(\"Mail\", \"keine Mailadresse\"))"
   ]
  },
  {
   "cell_type": "markdown",
   "metadata": {},
   "source": [
    "## Lesen/Suchen und Ausgeben von Dokumenten "
   ]
  },
  {
   "cell_type": "markdown",
   "metadata": {},
   "source": [
    "Lesen von Dokumenten mit Suchkriterium 'Vorname = Peter'"
   ]
  },
  {
   "cell_type": "code",
   "execution_count": null,
   "metadata": {
    "collapsed": true
   },
   "outputs": [],
   "source": [
    "dokumentCursor = sammlung.find({\"Vorname\":\"Peter\"})\n",
    "for dokument in dokumentCursor:\n",
    "    print(dokument)"
   ]
  },
  {
   "cell_type": "code",
   "execution_count": null,
   "metadata": {
    "collapsed": true
   },
   "outputs": [],
   "source": [
    "suchKriterium = {\"Name\":\"Kessler\"}\n",
    "dokumentCursor = sammlung.find(suchKriterium)\n",
    "for dokument in dokumentCursor:\n",
    "    print(dokument)"
   ]
  },
  {
   "cell_type": "markdown",
   "metadata": {},
   "source": [
    "Lesen von Dokumenten mit Suchkriterium 'Vorname ungleich Peter'"
   ]
  },
  {
   "cell_type": "code",
   "execution_count": null,
   "metadata": {
    "collapsed": true
   },
   "outputs": [],
   "source": [
    "dokumentCursor = sammlung.find({\"Vorname\":{\"$ne\":\"Peter\"}})\n",
    "for dokument in dokumentCursor:\n",
    "    print(dokument)"
   ]
  },
  {
   "cell_type": "code",
   "execution_count": null,
   "metadata": {
    "collapsed": true
   },
   "outputs": [],
   "source": [
    "suchKriterium = {\"Vorname\":{\"$ne\":\"Peter\"}}\n",
    "dokumentCursor = sammlung.find(suchKriterium)\n",
    "for dokument in dokumentCursor:\n",
    "    print(dokument)"
   ]
  },
  {
   "cell_type": "markdown",
   "metadata": {},
   "source": [
    "Lesen von Dokumenten mit Suchkriterien 'Vorname = Peter und Name = Kessler'"
   ]
  },
  {
   "cell_type": "code",
   "execution_count": null,
   "metadata": {
    "collapsed": true
   },
   "outputs": [],
   "source": [
    "dokumentCursor = sammlung.find({\"Vorname\":\"Peter\",\"Name\":\"Kessler\"})\n",
    "for dokument in dokumentCursor:\n",
    "    print(dokument)"
   ]
  },
  {
   "cell_type": "code",
   "execution_count": null,
   "metadata": {
    "collapsed": true
   },
   "outputs": [],
   "source": [
    "suchKriterium = {\"Vorname\":\"Peter\",\"Name\":\"Kessler\"}\n",
    "dokumentCursor = sammlung.find(suchKriterium)\n",
    "for dokument in dokumentCursor:\n",
    "    print(dokument)"
   ]
  },
  {
   "cell_type": "markdown",
   "metadata": {},
   "source": [
    "Lesen von Dokumenten mit Suchkriterium 'Name beginnt mit K'"
   ]
  },
  {
   "cell_type": "code",
   "execution_count": null,
   "metadata": {
    "collapsed": true
   },
   "outputs": [],
   "source": [
    "dokumentCursor = sammlung.find({\"Name\":{\"$gt\":\"K\",\"$lt\":\"L\"}})\n",
    "for dokument in dokumentCursor:\n",
    "    print(dokument)"
   ]
  },
  {
   "cell_type": "code",
   "execution_count": null,
   "metadata": {
    "collapsed": true
   },
   "outputs": [],
   "source": [
    "suchKriterium = {\"Name\":{\"$gt\":\"K\",\"$lt\":\"L\"}}\n",
    "dokumentCursor = sammlung.find(suchKriterium)\n",
    "for dokument in dokumentCursor:\n",
    "    print(dokument)"
   ]
  },
  {
   "cell_type": "markdown",
   "metadata": {},
   "source": [
    "## Lesen ausgewählter Attribute (Fields) der Dokumente aus der Sammlung "
   ]
  },
  {
   "cell_type": "markdown",
   "metadata": {},
   "source": [
    "Lesen ausgewählter Attribute der Dokumente aus der Datenbank:\n",
    "Hinweis: Der Primekey _id wird immer gelesen und zurückgegeben,\n",
    "wenn dieser nicht ausdrücklich ausgeschlossen wird."
   ]
  },
  {
   "cell_type": "code",
   "execution_count": null,
   "metadata": {
    "collapsed": true
   },
   "outputs": [],
   "source": [
    "dokumentCursor = sammlung.find({},{\"Name\":1,\"Mail\":1})\n",
    "for dokument in dokumentCursor:\n",
    "    print(dokument)"
   ]
  },
  {
   "cell_type": "code",
   "execution_count": null,
   "metadata": {
    "collapsed": true
   },
   "outputs": [],
   "source": [
    "dokumentCursor = sammlung.find({},{\"Name\":True,\"Mail\":True})\n",
    "for dokument in dokumentCursor:\n",
    "    print(dokument)"
   ]
  },
  {
   "cell_type": "code",
   "execution_count": null,
   "metadata": {
    "collapsed": true
   },
   "outputs": [],
   "source": [
    "dokumentCursor = sammlung.find({},{\"Name\":1,\"Mail\":1,\"_id\":0})\n",
    "for dokument in dokumentCursor:\n",
    "    print(dokument)"
   ]
  },
  {
   "cell_type": "code",
   "execution_count": null,
   "metadata": {
    "collapsed": true
   },
   "outputs": [],
   "source": [
    "dokumentCursor = sammlung.find({},{\"Name\":True,\"Mail\":True,\"_id\":False})\n",
    "for dokument in dokumentCursor:\n",
    "    print(dokument)"
   ]
  },
  {
   "cell_type": "markdown",
   "metadata": {},
   "source": [
    "## Mutieren (ändern) von Dokumenten in der Sammlung"
   ]
  },
  {
   "cell_type": "markdown",
   "metadata": {},
   "source": [
    "Updaten eines ganz bestimmten Dokumentes in der Sammlung und zur Kontrolle vor- und nachher alles ausgeben."
   ]
  },
  {
   "cell_type": "code",
   "execution_count": null,
   "metadata": {
    "collapsed": true
   },
   "outputs": [],
   "source": [
    "print(\"\\nLesen aller Dokumente vor Update\")\n",
    "dokumentCursor = sammlung.find()\n",
    "for dokument in dokumentCursor:\n",
    "    print(dokument)\n",
    "    \n",
    "print(\"\\nUpdate des Dokumentes: peter --> Peter\")\n",
    "sammlung.update_one({\"Vorname\":\"peter\"},{\"$set\":{\"Vorname\":\"Peter\"}})\n",
    "\n",
    "print(\"\\nLesen aller Dokumente nach Update\")\n",
    "dokumentCursor = sammlung.find()\n",
    "for dokument in dokumentCursor:\n",
    "    print(dokument)"
   ]
  },
  {
   "cell_type": "markdown",
   "metadata": {},
   "source": [
    "### Kontrolliere in MongoClient, MongoBooster oder im mongo Terminal die Collection."
   ]
  },
  {
   "cell_type": "markdown",
   "metadata": {},
   "source": [
    "## Löschen von Dokumenten in der Sammlung "
   ]
  },
  {
   "cell_type": "markdown",
   "metadata": {},
   "source": [
    "Löschen eines Dokumentes aus der Sammlung"
   ]
  },
  {
   "cell_type": "code",
   "execution_count": null,
   "metadata": {
    "collapsed": true
   },
   "outputs": [],
   "source": [
    "print(\"\\nLesen aller Dokumente vor Delete\")\n",
    "dokumentCursor = sammlung.find()\n",
    "for dokument in dokumentCursor:\n",
    "    print(dokument)\n",
    "    \n",
    "print(\"\\nLöschen des Dokumentes: Peter Kessler\")\n",
    "anzDelete = sammlung.delete_one({\"Vorname\":\"Peter\", \"Name\":\"Kessler\"})\n",
    "print(\"Anzahl gelöschter Dokumente: \", anzDelete.deleted_count)\n",
    "\n",
    "print(\"\\nLesen aller Dokumente nach Delete\")\n",
    "dokumentCursor = sammlung.find()\n",
    "for dokument in dokumentCursor:\n",
    "    print(dokument)"
   ]
  },
  {
   "cell_type": "markdown",
   "metadata": {},
   "source": [
    "Löschen aller Dokumente aus der Datenbank"
   ]
  },
  {
   "cell_type": "code",
   "execution_count": null,
   "metadata": {
    "collapsed": true
   },
   "outputs": [],
   "source": [
    "print(\"\\nLesen aller Dokumente vor Delete all\")\n",
    "dokumentCursor = sammlung.find()\n",
    "for dokument in dokumentCursor:\n",
    "    print(dokument)\n",
    "    \n",
    "print(\"\\nLöschen aller Dokumente\")\n",
    "anzDelete = sammlung.delete_many({})\n",
    "print(\"Anzahl gelöschter Dokumente: \", anzDelete.deleted_count)\n",
    "\n",
    "print(\"\\nLesen aller Dokumente nach Delete all\")\n",
    "dokumentCursor = sammlung.find()\n",
    "for dokument in dokumentCursor:\n",
    "    print(dokument)"
   ]
  },
  {
   "cell_type": "markdown",
   "metadata": {},
   "source": [
    "### Kontrolliere in MongoClient, MongoBooster oder im mongo Terminal ob die Collection wirklich leer ist."
   ]
  },
  {
   "cell_type": "markdown",
   "metadata": {},
   "source": [
    "Verbindung zur Datenbank beenden"
   ]
  },
  {
   "cell_type": "code",
   "execution_count": null,
   "metadata": {
    "collapsed": true
   },
   "outputs": [],
   "source": [
    "dbVerbindung.close()"
   ]
  },
  {
   "cell_type": "markdown",
   "metadata": {},
   "source": [
    "That's all Folks"
   ]
  }
 ],
 "metadata": {
  "kernelspec": {
   "display_name": "Python 3",
   "language": "python",
   "name": "python3"
  },
  "language_info": {
   "codemirror_mode": {
    "name": "ipython",
    "version": 3
   },
   "file_extension": ".py",
   "mimetype": "text/x-python",
   "name": "python",
   "nbconvert_exporter": "python",
   "pygments_lexer": "ipython3",
   "version": "3.6.2"
  }
 },
 "nbformat": 4,
 "nbformat_minor": 1
}
