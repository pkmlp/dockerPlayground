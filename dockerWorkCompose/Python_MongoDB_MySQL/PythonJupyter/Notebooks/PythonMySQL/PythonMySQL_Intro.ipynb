{
 "cells": [
  {
   "cell_type": "markdown",
   "metadata": {},
   "source": [
    "# Python und MySQL (python2)"
   ]
  },
  {
   "cell_type": "markdown",
   "metadata": {},
   "source": [
    "Hinweis: Dieses Notebook funktioniert auch mit Python 3, wenn die Print-Statementes entsprechend angepasst werden !"
   ]
  },
  {
   "cell_type": "markdown",
   "metadata": {},
   "source": [
    "Um aus Python auf eine SQL-Datenbank zugreifen zu können, muss die entsprechende Bibliothek eingebunden werden. "
   ]
  },
  {
   "cell_type": "code",
   "execution_count": null,
   "metadata": {
    "collapsed": false
   },
   "outputs": [],
   "source": [
    "import mysql.connector"
   ]
  },
  {
   "cell_type": "markdown",
   "metadata": {},
   "source": [
    "Als nächstes muss eine Verbindung zur Datenbank (mit gültigen Credentials) hergestellt werden.  "
   ]
  },
  {
   "cell_type": "code",
   "execution_count": null,
   "metadata": {
    "collapsed": false
   },
   "outputs": [],
   "source": [
    "dbConnection = mysql.connector.connect(host = \"localhost\", user = \"root\", passwd = \"pkmlp\", db = \"Heizungsmonteur\")"
   ]
  },
  {
   "cell_type": "markdown",
   "metadata": {},
   "source": [
    "Da bei der Abfrage einer relationalen Datenbanken immer eine Menge (leere Menge, eine Menge mit genau einem Attribut, oder eine Menge, die die gesamte Tabellen beinhaltet) zurückgibt, muss ein Cursor definiert werden, damit die Resultatmenge dann Zeile für Zeile abgearbeitet werden kann."
   ]
  },
  {
   "cell_type": "code",
   "execution_count": null,
   "metadata": {
    "collapsed": false
   },
   "outputs": [],
   "source": [
    "dbCursor = dbConnection.cursor()"
   ]
  },
  {
   "cell_type": "markdown",
   "metadata": {},
   "source": [
    "Dann wird das auszuführende SQL-Statement aufbereitet"
   ]
  },
  {
   "cell_type": "code",
   "execution_count": null,
   "metadata": {
    "collapsed": true
   },
   "outputs": [],
   "source": [
    "sqlStatement = \"select M_Name, Abteilung from Monteur, Abteilung where Monteur.A_Nr = Abteilung.A_Nr;\""
   ]
  },
  {
   "cell_type": "markdown",
   "metadata": {},
   "source": [
    "Der Cursor nimmt das Resuktat des SQL-Statementauf."
   ]
  },
  {
   "cell_type": "code",
   "execution_count": null,
   "metadata": {
    "collapsed": false
   },
   "outputs": [],
   "source": [
    "dbCursor.execute(sqlStatement)"
   ]
  },
  {
   "cell_type": "markdown",
   "metadata": {},
   "source": [
    "Nun ist die Resultatmenge im Objekt dbCursor"
   ]
  },
  {
   "cell_type": "code",
   "execution_count": null,
   "metadata": {
    "collapsed": false
   },
   "outputs": [],
   "source": [
    "print dbCursor"
   ]
  },
  {
   "cell_type": "markdown",
   "metadata": {},
   "source": [
    "Ausgeben der Kunden-Daten in der Tabelle (resp. im Cursor)"
   ]
  },
  {
   "cell_type": "code",
   "execution_count": null,
   "metadata": {
    "collapsed": false
   },
   "outputs": [],
   "source": [
    "for monteurZeile in dbCursor:\n",
    "    print \"Name:\", monteurZeile[0], \"Abteilung:\", monteurZeile[1]"
   ]
  },
  {
   "cell_type": "markdown",
   "metadata": {},
   "source": [
    "Schliessen der Verbindung zur Datenbank"
   ]
  },
  {
   "cell_type": "code",
   "execution_count": null,
   "metadata": {
    "collapsed": true
   },
   "outputs": [],
   "source": [
    "dbConnection.close()"
   ]
  },
  {
   "cell_type": "markdown",
   "metadata": {},
   "source": [
    "That's all Folk"
   ]
  }
 ],
 "metadata": {
  "kernelspec": {
   "display_name": "Python 3",
   "language": "python",
   "name": "python3"
  },
  "language_info": {
   "codemirror_mode": {
    "name": "ipython",
    "version": 3
   },
   "file_extension": ".py",
   "mimetype": "text/x-python",
   "name": "python",
   "nbconvert_exporter": "python",
   "pygments_lexer": "ipython3",
   "version": "3.5.1"
  }
 },
 "nbformat": 4,
 "nbformat_minor": 0
}
