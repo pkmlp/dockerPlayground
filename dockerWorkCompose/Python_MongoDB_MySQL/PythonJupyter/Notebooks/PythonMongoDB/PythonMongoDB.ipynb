{
 "cells": [
  {
   "cell_type": "markdown",
   "metadata": {},
   "source": [
    "# Python und MongoDB"
   ]
  },
  {
   "cell_type": "markdown",
   "metadata": {},
   "source": [
    "Kontrolliere in Robomongo oder im mongo Terminal ob die Datenbank noch nicht vorhanden ist."
   ]
  },
  {
   "cell_type": "markdown",
   "metadata": {},
   "source": [
    "Um aus Python auf eine SQL-Datenbank zugreifen zu können, muss die entsprechende Bibliothek eingebunden werden. "
   ]
  },
  {
   "cell_type": "code",
   "execution_count": null,
   "metadata": {
    "collapsed": true
   },
   "outputs": [],
   "source": [
    "import pymongo"
   ]
  },
  {
   "cell_type": "markdown",
   "metadata": {},
   "source": [
    "Definition der Datenbank-Parameter als Konstanten"
   ]
  },
  {
   "cell_type": "code",
   "execution_count": null,
   "metadata": {
    "collapsed": true
   },
   "outputs": [],
   "source": [
    "DATABASE_HOST    =  \"localhost\"\n",
    "DATABASE_PORT    =  27017\n",
    "DATABASE_NAME    =  \"meineDB\"\n",
    "COLLECTION_NAME  =  \"meineSammlung\""
   ]
  },
  {
   "cell_type": "markdown",
   "metadata": {},
   "source": [
    "Als nächstes muss eine Verbindung zur Datenbank (mit gültigen Credentials) hergestellt werden.  "
   ]
  },
  {
   "cell_type": "code",
   "execution_count": null,
   "metadata": {
    "collapsed": false
   },
   "outputs": [],
   "source": [
    "try:\n",
    "    dbVerbindung = pymongo.MongoClient(DATABASE_HOST, DATABASE_PORT)\n",
    "    print(\"\\nVerbindung zu MongoDB erstellt\\n\")\n",
    "except pymongo.errors.ConnectionFailure as VerbindungsFehler:\n",
    "    print(\"\\nKeine Verbindung zu MongoDB: \", VerbindungsFehler, \" - Programmabbruch\\n\")"
   ]
  },
  {
   "cell_type": "markdown",
   "metadata": {},
   "source": [
    "Verbindung konnte erstellt werden, nun Datenbank wählen. \n",
    "Diese wird neu angelegt, wenn nicht bereits vorhanden"
   ]
  },
  {
   "cell_type": "code",
   "execution_count": null,
   "metadata": {
    "collapsed": false
   },
   "outputs": [],
   "source": [
    "db = dbVerbindung[DATABASE_NAME]"
   ]
  },
  {
   "cell_type": "markdown",
   "metadata": {},
   "source": [
    "Erstellen einer Collection in der Datenbank"
   ]
  },
  {
   "cell_type": "code",
   "execution_count": null,
   "metadata": {
    "collapsed": false
   },
   "outputs": [],
   "source": [
    "sammlung = db.create_collection(COLLECTION_NAME)"
   ]
  },
  {
   "cell_type": "markdown",
   "metadata": {},
   "source": [
    "Definieren von einzelnen Dokumenten "
   ]
  },
  {
   "cell_type": "code",
   "execution_count": null,
   "metadata": {
    "collapsed": false
   },
   "outputs": [],
   "source": [
    "dokument_1 = {\"Name\":\"Kessler\", \"Vorname\":\"Peter\", \"Mail\":\"peter@trueworld.ch\"}\n",
    "dokument_2 = {\"Name\":\"Kessler\", \"Vorname\":\"Paul\",  \"Mail\":\"paul@trueworld.ch\"}\n",
    "dokument_3 = {\"Name\":\"Meier\",   \"Vorname\":\"peter\", \"Mail\":\"meier@trueworld.ch\"}\n",
    "dokument_4 = {\"Name\":\"Enz\",     \"Vorname\":\"Hugo\",  \"Mobile\":\"044 333 22 11\"}"
   ]
  },
  {
   "cell_type": "markdown",
   "metadata": {},
   "source": [
    "Einfügen der einzeln definierten Dokumente in die Datenbank/Collection"
   ]
  },
  {
   "cell_type": "code",
   "execution_count": null,
   "metadata": {
    "collapsed": false
   },
   "outputs": [],
   "source": [
    "insertedKey = sammlung.insert_one(dokument_1)\n",
    "print(\"\\nPrimekey des eingefügten Dokumentes: \", insertedKey.inserted_id)\n",
    "\n",
    "insertedKey = sammlung.insert_one(dokument_2)\n",
    "print(\"Primekey des eingefügten Dokumentes: \", insertedKey.inserted_id)\n",
    "\n",
    "insertedKey = sammlung.insert_one(dokument_3)\n",
    "print(\"Primekey des eingefügten Dokumentes: \", insertedKey.inserted_id)\n",
    "\n",
    "insertedKey = sammlung.insert_one(dokument_4)\n",
    "print(\"Primekey des eingefügten Dokumentes: \", insertedKey.inserted_id)"
   ]
  },
  {
   "cell_type": "markdown",
   "metadata": {},
   "source": [
    "Definieren einer Liste mit mehreren Dokumenten"
   ]
  },
  {
   "cell_type": "code",
   "execution_count": null,
   "metadata": {
    "collapsed": false
   },
   "outputs": [],
   "source": [
    "sammelDokument = [\n",
    "    {\"Name\":\"Müller\",     \"Vorname\":\"Ralf\",  \"Mail\":\"ralf@pkmlp.ch\"},\n",
    "    {\"Name\":\"Hanselmann\", \"Vorname\":\"Karl\",  \"Mail\":\"khanselmann@pkmlp.ch\"},\n",
    "    {\"Name\":\"Bitbeisser\", \"Vorname\":\"Bodo\",  \"Mail\":\"bodo@bitbeisser.ch\"},\n",
    "    {\"Name\":\"Consani\",    \"Vorname\":\"Fabio\", \"Mobile\":\"044 999 88 77\"}\n",
    "]"
   ]
  },
  {
   "cell_type": "markdown",
   "metadata": {},
   "source": [
    "Einfügen der Liste mit den Dokumenten in die Datenbank/Collection"
   ]
  },
  {
   "cell_type": "code",
   "execution_count": null,
   "metadata": {
    "collapsed": false
   },
   "outputs": [],
   "source": [
    "insertedKeys = sammlung.insert_many(sammelDokument)\n",
    "print(\"\\nArray der Primekeys der eingefügten Dokumente: \")\n",
    "print(insertedKeys.inserted_ids)\n",
    "\n",
    "print(\"\\nPrimekeys der eingefügten Dokumente einzeln: \")\n",
    "for i in range(0, len(insertedKeys.inserted_ids)):\n",
    "    print(insertedKeys.inserted_ids[i])"
   ]
  },
  {
   "cell_type": "markdown",
   "metadata": {},
   "source": [
    "Feststellen wieviele Dokumente in der DB sind"
   ]
  },
  {
   "cell_type": "code",
   "execution_count": null,
   "metadata": {
    "collapsed": false
   },
   "outputs": [],
   "source": [
    "anzDokumente = sammlung.find().count()\n",
    "print(\"Die Sammlung enthält\",anzDokumente, \"Dokumente\\n\")"
   ]
  },
  {
   "cell_type": "code",
   "execution_count": null,
   "metadata": {
    "collapsed": false
   },
   "outputs": [],
   "source": [
    "anzDokumente = sammlung.find({\"Mail\":{\"$exists\":True}}).count()\n",
    "print(\"Die Sammlung enthält\",anzDokumente, \"Dokumente mit Mailadresse\\n\")"
   ]
  },
  {
   "cell_type": "code",
   "execution_count": null,
   "metadata": {
    "collapsed": false
   },
   "outputs": [],
   "source": [
    "anzDokumente = sammlung.find({\"Mail\":{\"$exists\":False}}).count()\n",
    "print(\"Die Sammlung enthält\",anzDokumente, \"Dokumente ohne Mailadresse\\n\")"
   ]
  },
  {
   "cell_type": "code",
   "execution_count": null,
   "metadata": {
    "collapsed": false
   },
   "outputs": [],
   "source": [
    "anzDokumente = sammlung.find({\"Vorname\":\"Peter\"}).count()\n",
    "print(\"Davon entsprechen\",anzDokumente,\"dem Suchkriterium: Vorname = Peter\\n\")"
   ]
  },
  {
   "cell_type": "markdown",
   "metadata": {},
   "source": [
    "Suchen und zählen von Dokumenten in der Datenbank/Collection"
   ]
  },
  {
   "cell_type": "code",
   "execution_count": null,
   "metadata": {
    "collapsed": false
   },
   "outputs": [],
   "source": [
    "suchKriterium = {\"Name\":\"Kessler\"}\n",
    "anzDokumente = sammlung.find(suchKriterium).count()\n",
    "print(\"Davon entsprechen\",anzDokumente,\"dem Suchkriterium:\",suchKriterium,\"\\n\")"
   ]
  },
  {
   "cell_type": "code",
   "execution_count": null,
   "metadata": {
    "collapsed": false
   },
   "outputs": [],
   "source": [
    "suchKey = \"Name\"\n",
    "suchWert = \"Kessler\"\n",
    "anzDokumente = sammlung.find({suchKey:suchWert}).count()\n",
    "print(\"Davon entsprechen\",anzDokumente,\"dem Suchkriterium:\",suchKey,\"=\",suchWert,\"\\n\")"
   ]
  },
  {
   "cell_type": "code",
   "execution_count": null,
   "metadata": {
    "collapsed": false
   },
   "outputs": [],
   "source": [
    "suchKey = \"Vorname\"\n",
    "suchWert = \"Hugo\"\n",
    "suchKriterium = {suchKey:suchWert}\n",
    "anzDokumente = sammlung.find(suchKriterium).count()\n",
    "print(\"Davon entsprechen\",anzDokumente,\"dem Suchkriterium:\",suchKey,\"=\",suchWert,\"\\n\")"
   ]
  },
  {
   "cell_type": "code",
   "execution_count": null,
   "metadata": {
    "collapsed": false
   },
   "outputs": [],
   "source": [
    "suchKey = \"Vorname\"\n",
    "suchWert = \"Paul\"\n",
    "print(\"Davon entsprechen\",sammlung.find({suchKey:suchWert}).count(),\n",
    "      \"dem Suchkriterium:\",suchKey,\"=\",suchWert,\"\\n\")"
   ]
  },
  {
   "cell_type": "markdown",
   "metadata": {},
   "source": [
    "Lesen aller Dokumente aus der Datenbank\n",
    "Hinweis: Die Reihenfolge der einzelnen Attribute in einer Zeile sind nicht definiert.\n",
    "Darum müssen Attribute gezielt mit dem Key aus dem Cursor gelesen werden."
   ]
  },
  {
   "cell_type": "code",
   "execution_count": null,
   "metadata": {
    "collapsed": false
   },
   "outputs": [],
   "source": [
    "print(\"Lesen aller Dokumente nach Einfuegen\")\n",
    "dokumentCursor = sammlung.find()\n",
    "for dokument in dokumentCursor:\n",
    "    print(dokument)"
   ]
  },
  {
   "cell_type": "code",
   "execution_count": null,
   "metadata": {
    "collapsed": false
   },
   "outputs": [],
   "source": [
    "print(\"\\nLesen aller Dokumente aber nur Attributswerte ausgeben\")\n",
    "dokumentCursor = sammlung.find()\n",
    "for dokument in dokumentCursor:\n",
    "    print(dokument.get(\"Name\"), dokument.get(\"Vorname\"), dokument.get(\"Mail\", \"keine Mailadresse\"))"
   ]
  },
  {
   "cell_type": "code",
   "execution_count": null,
   "metadata": {
    "collapsed": false
   },
   "outputs": [],
   "source": [
    "print(\"\\nLesen aller Dokumente absteigend sortiert nach Vorname\")\n",
    "dokumentCursor = sammlung.find().sort(\"Vorname\",-1)\n",
    "for dokument in dokumentCursor:\n",
    "    print(dokument.get(\"Name\"), dokument.get(\"Vorname\"), dokument.get(\"Mail\", \"keine Mailadresse\"))"
   ]
  },
  {
   "cell_type": "markdown",
   "metadata": {},
   "source": [
    "Lesen von Dokumenten mit Suchkriterium 'Vorname = Peter'"
   ]
  },
  {
   "cell_type": "code",
   "execution_count": null,
   "metadata": {
    "collapsed": false
   },
   "outputs": [],
   "source": [
    "dokumentCursor = sammlung.find({\"Vorname\":\"Peter\"})\n",
    "for dokument in dokumentCursor:\n",
    "    print(dokument)"
   ]
  },
  {
   "cell_type": "code",
   "execution_count": null,
   "metadata": {
    "collapsed": false
   },
   "outputs": [],
   "source": [
    "suchKriterium = {\"Name\":\"Kessler\"}\n",
    "dokumentCursor = sammlung.find(suchKriterium)\n",
    "for dokument in dokumentCursor:\n",
    "    print(dokument)"
   ]
  },
  {
   "cell_type": "markdown",
   "metadata": {},
   "source": [
    "Lesen von Dokumenten mit Suchkriterium 'Vorname ungleich Peter'"
   ]
  },
  {
   "cell_type": "code",
   "execution_count": null,
   "metadata": {
    "collapsed": false
   },
   "outputs": [],
   "source": [
    "dokumentCursor = sammlung.find({\"Vorname\":{\"$ne\":\"Peter\"}})\n",
    "for dokument in dokumentCursor:\n",
    "    print(dokument)"
   ]
  },
  {
   "cell_type": "code",
   "execution_count": null,
   "metadata": {
    "collapsed": false
   },
   "outputs": [],
   "source": [
    "suchKriterium = {\"Vorname\":{\"$ne\":\"Peter\"}}\n",
    "dokumentCursor = sammlung.find(suchKriterium)\n",
    "for dokument in dokumentCursor:\n",
    "    print(dokument)"
   ]
  },
  {
   "cell_type": "markdown",
   "metadata": {},
   "source": [
    "Lesen von Dokumenten mit Suchkriterien 'Vorname = Peter und Name = Kessler'"
   ]
  },
  {
   "cell_type": "code",
   "execution_count": null,
   "metadata": {
    "collapsed": false
   },
   "outputs": [],
   "source": [
    "dokumentCursor = sammlung.find({\"Vorname\":\"Peter\",\"Name\":\"Kessler\"})\n",
    "for dokument in dokumentCursor:\n",
    "    print(dokument)"
   ]
  },
  {
   "cell_type": "code",
   "execution_count": null,
   "metadata": {
    "collapsed": false
   },
   "outputs": [],
   "source": [
    "suchKriterium = {\"Vorname\":\"Peter\",\"Name\":\"Kessler\"}\n",
    "dokumentCursor = sammlung.find(suchKriterium)\n",
    "for dokument in dokumentCursor:\n",
    "    print(dokument)"
   ]
  },
  {
   "cell_type": "markdown",
   "metadata": {},
   "source": [
    "Lesen von Dokumenten mit Suchkriterium 'Name beginnt mit K'"
   ]
  },
  {
   "cell_type": "code",
   "execution_count": null,
   "metadata": {
    "collapsed": false
   },
   "outputs": [],
   "source": [
    "dokumentCursor = sammlung.find({\"Name\":{\"$gt\":\"K\",\"$lt\":\"L\"}})\n",
    "for dokument in dokumentCursor:\n",
    "    print(dokument)"
   ]
  },
  {
   "cell_type": "code",
   "execution_count": null,
   "metadata": {
    "collapsed": false
   },
   "outputs": [],
   "source": [
    "suchKriterium = {\"Name\":{\"$gt\":\"K\",\"$lt\":\"L\"}}\n",
    "dokumentCursor = sammlung.find(suchKriterium)\n",
    "for dokument in dokumentCursor:\n",
    "    print(dokument)"
   ]
  },
  {
   "cell_type": "markdown",
   "metadata": {},
   "source": [
    "Lesen ausgewählter Attribute der Dokumente aus der Datenbank:\n",
    "Hinweis: Der Primekey _id wird immer gelesen und zurückgegeben,\n",
    "wenn dieser nicht ausdrücklich ausgeschlossen wird."
   ]
  },
  {
   "cell_type": "code",
   "execution_count": null,
   "metadata": {
    "collapsed": false
   },
   "outputs": [],
   "source": [
    "dokumentCursor = sammlung.find({},{\"Name\":1,\"Mail\":1})\n",
    "for dokument in dokumentCursor:\n",
    "    print(dokument)"
   ]
  },
  {
   "cell_type": "code",
   "execution_count": null,
   "metadata": {
    "collapsed": false
   },
   "outputs": [],
   "source": [
    "dokumentCursor = sammlung.find({},{\"Name\":True,\"Mail\":True})\n",
    "for dokument in dokumentCursor:\n",
    "    print(dokument)"
   ]
  },
  {
   "cell_type": "code",
   "execution_count": null,
   "metadata": {
    "collapsed": false
   },
   "outputs": [],
   "source": [
    "dokumentCursor = sammlung.find({},{\"Name\":1,\"Mail\":1,\"_id\":0})\n",
    "for dokument in dokumentCursor:\n",
    "    print(dokument)"
   ]
  },
  {
   "cell_type": "code",
   "execution_count": null,
   "metadata": {
    "collapsed": false
   },
   "outputs": [],
   "source": [
    "dokumentCursor = sammlung.find({},{\"Name\":True,\"Mail\":True,\"_id\":False})\n",
    "for dokument in dokumentCursor:\n",
    "    print(dokument)"
   ]
  },
  {
   "cell_type": "markdown",
   "metadata": {},
   "source": [
    "Updaten eines ganz bestimmten Dokumentes aus der Datenbank und zur Kontrolle vor- und nachher alles ausgeben."
   ]
  },
  {
   "cell_type": "code",
   "execution_count": null,
   "metadata": {
    "collapsed": false
   },
   "outputs": [],
   "source": [
    "print(\"\\nLesen aller Dokumente vor Update\")\n",
    "dokumentCursor = sammlung.find()\n",
    "for dokument in dokumentCursor:\n",
    "    print(dokument)\n",
    "    \n",
    "print(\"\\nUpdate des Dokumentes: peter --> Peter\")\n",
    "sammlung.update_one({\"Vorname\":\"peter\"},{\"$set\":{\"Vorname\":\"Peter\"}})\n",
    "\n",
    "print(\"\\nLesen aller Dokumente nach Update\")\n",
    "dokumentCursor = sammlung.find()\n",
    "for dokument in dokumentCursor:\n",
    "    print(dokument)"
   ]
  },
  {
   "cell_type": "markdown",
   "metadata": {},
   "source": [
    "Löschen eines Dokumentes aus der Datenbank"
   ]
  },
  {
   "cell_type": "code",
   "execution_count": null,
   "metadata": {
    "collapsed": false
   },
   "outputs": [],
   "source": [
    "print(\"\\nLesen aller Dokumente vor Delete\")\n",
    "dokumentCursor = sammlung.find()\n",
    "for dokument in dokumentCursor:\n",
    "    print(dokument)\n",
    "    \n",
    "print(\"\\nLöschen des Dokumentes: Peter Kessler\")\n",
    "anzDelete = sammlung.delete_one({\"Vorname\":\"Peter\", \"Name\":\"Kessler\"})\n",
    "print(\"Anzahl gelöschter Dokumente: \", anzDelete.deleted_count)\n",
    "\n",
    "print(\"\\nLesen aller Dokumente nach Delete\")\n",
    "dokumentCursor = sammlung.find()\n",
    "for dokument in dokumentCursor:\n",
    "    print(dokument)"
   ]
  },
  {
   "cell_type": "markdown",
   "metadata": {},
   "source": [
    "Löschen aller Dokumente aus der Datenbank"
   ]
  },
  {
   "cell_type": "code",
   "execution_count": null,
   "metadata": {
    "collapsed": false
   },
   "outputs": [],
   "source": [
    "print(\"\\nLesen aller Dokumente vor Delete all\")\n",
    "dokumentCursor = sammlung.find()\n",
    "for dokument in dokumentCursor:\n",
    "    print(dokument)\n",
    "    \n",
    "print(\"\\nLöschen aller Dokumente\")\n",
    "anzDelete = sammlung.delete_many({})\n",
    "print(\"Anzahl gelöschter Dokumente: \", anzDelete.deleted_count)\n",
    "\n",
    "print(\"\\nLesen aller Dokumente nach Delete all\")\n",
    "dokumentCursor = sammlung.find()\n",
    "for dokument in dokumentCursor:\n",
    "    print(dokument)"
   ]
  },
  {
   "cell_type": "markdown",
   "metadata": {},
   "source": [
    "Löschen der Collection"
   ]
  },
  {
   "cell_type": "code",
   "execution_count": null,
   "metadata": {
    "collapsed": true
   },
   "outputs": [],
   "source": [
    "db.drop_collection(COLLECTION_NAME)"
   ]
  },
  {
   "cell_type": "markdown",
   "metadata": {},
   "source": [
    "Löschen der Datenbank"
   ]
  },
  {
   "cell_type": "code",
   "execution_count": null,
   "metadata": {
    "collapsed": true
   },
   "outputs": [],
   "source": [
    "dbVerbindung.drop_database(DATABASE_NAME)"
   ]
  },
  {
   "cell_type": "markdown",
   "metadata": {},
   "source": [
    "Kontrolliere in Robomongo oder im mongo Terminal ob die Datenbank wirklich gelöscht ist."
   ]
  },
  {
   "cell_type": "markdown",
   "metadata": {},
   "source": [
    "Zum Schluss noch alles in einem Script"
   ]
  },
  {
   "cell_type": "code",
   "execution_count": null,
   "metadata": {
    "collapsed": false
   },
   "outputs": [],
   "source": [
    "####################################################################################################\n",
    "#\n",
    "# Importieren der Module für DB-Anbindung\n",
    "#   pymongo muss installiert sein, im Terminal mit: sudo pip-3.2 install pymongo\n",
    "#\n",
    "####################################################################################################\n",
    "\n",
    "import sys\n",
    "import pymongo\n",
    "\n",
    "\n",
    "####################################################################################################\n",
    "#\n",
    "# Definition der Datenbank-Parameter als Konstanten\n",
    "#\n",
    "####################################################################################################\n",
    "\n",
    "DATABASE_HOST    =  \"localhost\"\n",
    "DATABASE_PORT    =  27017\n",
    "DATABASE_NAME    =  \"meineDB\"\n",
    "COLLECTION_NAME  =  \"meineSammlung\"\n",
    "\n",
    "\n",
    "####################################################################################################\n",
    "#\n",
    "# Verbindung zu Datenbank-Server oeffnen, wenn nicht verfügbar -> Programmabbruch\n",
    "#\n",
    "####################################################################################################\n",
    "\n",
    "try:\n",
    "    dbVerbindung = pymongo.MongoClient(DATABASE_HOST, DATABASE_PORT)\n",
    "    print(\"\\nVerbindung zu MongoDB erstellt\\n\")\n",
    "except pymongo.errors.ConnectionFailure as VerbindungsFehler:\n",
    "    print(\"\\nKeine Verbindung zu MongoDB: \", VerbindungsFehler, \" - Programmabbruch\\n\")\n",
    "    sys.exit(1)\n",
    "\n",
    "\n",
    "####################################################################################################\n",
    "#\n",
    "# Verbindung konnte erstellt werden, nun Datenbank wählen\n",
    "# Diese wird neu angelegt, wenn nicht bereits vorhanden\n",
    "#\n",
    "####################################################################################################\n",
    "\n",
    "db = dbVerbindung[DATABASE_NAME]\n",
    "\n",
    "\n",
    "####################################################################################################\n",
    "#\n",
    "# Erstellen einer Collection in der Datenbank\n",
    "#\n",
    "####################################################################################################\n",
    "\n",
    "sammlung = db.create_collection(COLLECTION_NAME)\n",
    "\n",
    "\n",
    "####################################################################################################\n",
    "#\n",
    "# Definieren von Dokumenten (mit zuvor geholter _id)\n",
    "#\n",
    "####################################################################################################\n",
    "\n",
    "dokument_1 = {\"Name\":\"Kessler\", \"Vorname\":\"Peter\", \"Mail\":\"peter@trueworld.ch\"}\n",
    "dokument_2 = {\"Name\":\"Kessler\", \"Vorname\":\"Paul\",  \"Mail\":\"paul@trueworld.ch\"}\n",
    "dokument_3 = {\"Name\":\"Meier\",   \"Vorname\":\"peter\", \"Mail\":\"meier@trueworld.ch\"}\n",
    "dokument_4 = {\"Name\":\"Enz\",     \"Vorname\":\"Hugo\",  \"Mobile\":\"044 333 22 11\"}\n",
    "\n",
    "\n",
    "####################################################################################################\n",
    "#\n",
    "# Einfuegen der Dokumente in die Datenbank/Collection\n",
    "#\n",
    "####################################################################################################\n",
    "\n",
    "print(\"Dokumente einfuegen\\n\")\n",
    "\n",
    "insertedKey = sammlung.insert_one(dokument_1)\n",
    "print(\"\\nPrimekey des eingefügten Dokumentes: \", insertedKey.inserted_id)\n",
    "\n",
    "insertedKey = sammlung.insert_one(dokument_2)\n",
    "print(\"\\nPrimekey des eingefügten Dokumentes: \", insertedKey.inserted_id)\n",
    "\n",
    "insertedKey = sammlung.insert_one(dokument_3)\n",
    "print(\"\\nPrimekey des eingefügten Dokumentes: \", insertedKey.inserted_id)\n",
    "\n",
    "insertedKey = sammlung.insert_one(dokument_4)\n",
    "print(\"\\nPrimekey des eingefügten Dokumentes: \", insertedKey.inserted_id)\n",
    "\n",
    "\n",
    "####################################################################################################\n",
    "#\n",
    "# Feststellen wieviele Dokumente in der DB sind\n",
    "#\n",
    "####################################################################################################\n",
    "\n",
    "anzDokumente = sammlung.find().count()\n",
    "print(\"Die Sammlung enthaelt\",anzDokumente, \"Dokumente\\n\")\n",
    "\n",
    "anzDokumente = sammlung.find({\"Mail\":{\"$exists\":True}}).count()\n",
    "print(\"Die Sammlung enthaelt\",anzDokumente, \"Dokumente mit Mailadresse\\n\")\n",
    "\n",
    "anzDokumente = sammlung.find({\"Mail\":{\"$exists\":False}}).count()\n",
    "print(\"Die Sammlung enthaelt\",anzDokumente, \"Dokumente ohne Mailadresse\\n\")\n",
    "\n",
    "anzDokumente = sammlung.find({\"Vorname\":\"Peter\"}).count()\n",
    "print(\"Davon entsprechen\",anzDokumente,\"dem Suchkriterium: Vorname = Peter\\n\")\n",
    "\n",
    "suchKriterium = {\"Name\":\"Kessler\"}\n",
    "anzDokumente = sammlung.find(suchKriterium).count()\n",
    "print(\"Davon entsprechen\",anzDokumente,\"dem Suchkriterium:\",suchKriterium,\"\\n\")\n",
    "\n",
    "suchKey = \"Name\"\n",
    "suchWert = \"Kessler\"\n",
    "anzDokumente = sammlung.find({suchKey:suchWert}).count()\n",
    "print(\"Davon entsprechen\",anzDokumente,\"dem Suchkriterium:\",suchKey,\"=\",suchWert,\"\\n\")\n",
    "\n",
    "suchKey = \"Vorname\"\n",
    "suchWert = \"Hugo\"\n",
    "suchKriterium = {suchKey:suchWert}\n",
    "anzDokumente = sammlung.find(suchKriterium).count()\n",
    "print(\"Davon entsprechen\",anzDokumente,\"dem Suchkriterium:\",suchKey,\"=\",suchWert,\"\\n\")\n",
    "\n",
    "suchKey = \"Vorname\"\n",
    "suchWert = \"Paul\"\n",
    "print(\"Davon entsprechen\",sammlung.find({suchKey:suchWert}).count(),\n",
    "      \"dem Suchkriterium:\",suchKey,\"=\",suchWert,\"\\n\")\n",
    "\n",
    "\n",
    "####################################################################################################\n",
    "#\n",
    "# Lesen aller Dokumente aus der Datenbank\n",
    "# Hinweis: Die Reihenfolge der einzelnen Attribute in einer Zeile sind nicht definiert.\n",
    "#          Darum müssen Attribute gezielt mit dem Key aus dem Cursor gelesen werden.\n",
    "#\n",
    "####################################################################################################\n",
    "\n",
    "print(\"Lesen aller Dokumente nach Einfuegen\")\n",
    "dokumentCursor = sammlung.find()\n",
    "for dokument in dokumentCursor:\n",
    "    print(dokument)\n",
    "\n",
    "print(\"\\nLesen aller Dokumente aber nur Attributswerte ausgeben\")\n",
    "dokumentCursor = sammlung.find()\n",
    "for dokument in dokumentCursor:\n",
    "    print(dokument.get(\"Name\"), dokument.get(\"Vorname\"), dokument.get(\"Mail\", \"keine Mailadresse\"))\n",
    "\n",
    "print(\"\\nLesen aller Dokumente absteigend sortiert nach Vorname\")\n",
    "dokumentCursor = sammlung.find().sort(\"Vorname\",-1)\n",
    "for dokument in dokumentCursor:\n",
    "    print(dokument.get(\"Name\"), dokument.get(\"Vorname\"), dokument.get(\"Mail\", \"keine Mailadresse\"))\n",
    "\n",
    "\n",
    "####################################################################################################\n",
    "#\n",
    "# Lesen bestimmter Dokumente aus der Datenbank\n",
    "#\n",
    "####################################################################################################\n",
    "\n",
    "print(\"\\nLesen von Dokumenten mit Suckriterien 'Vorname = Peter'\")\n",
    "dokumentCursor = sammlung.find({\"Vorname\":\"Peter\"})\n",
    "for dokument in dokumentCursor:\n",
    "    print(dokument)\n",
    "\n",
    "print(\"\\nLesen von Dokumenten mit Suckriterien 'Vorname nicht = Peter'\")\n",
    "dokumentCursor = sammlung.find({\"Vorname\":{\"$ne\":\"Peter\"}})\n",
    "for dokument in dokumentCursor:\n",
    "    print(dokument)\n",
    "\n",
    "print(\"\\nLesen von Dokumenten mit Suckriterien 'Vorname = Peter und Name = Kessler'\")\n",
    "dokumentCursor = sammlung.find({\"Vorname\":\"Peter\",\"Name\":\"Kessler\"})\n",
    "for dokument in dokumentCursor:\n",
    "    print(dokument)\n",
    "\n",
    "print(\"\\nLesen von Dokumenten mit Suckriterien 'Name beginnt mit K'\")\n",
    "dokumentCursor = sammlung.find({\"Name\":{\"$gt\":\"K\",\"$lt\":\"L\"}})\n",
    "for dokument in dokumentCursor:\n",
    "    print(dokument)\n",
    "\n",
    "\n",
    "####################################################################################################\n",
    "#\n",
    "# Lesen ausgewaehlter Attribute der Dokumente aus der Datenbank\n",
    "# Hinweis: Der Primekey _id wird immer gelesen und zurueckgegeben,\n",
    "#          wenn dieser nicht ausdruecklich ausgeschlossen wird\n",
    "#\n",
    "####################################################################################################\n",
    "\n",
    "print(\"\\nLesen ausgewaehlter Attribute - Name und Mail - der Dokumente\")\n",
    "dokumentCursor = sammlung.find({},{\"Name\":1,\"Mail\":1})\n",
    "for dokument in dokumentCursor:\n",
    "    print(dokument)\n",
    "\n",
    "print(\"\\nLesen ausgewaehlter Attribute - Name und Mail - der Dokumente, unterdruecken Primekey _id\")\n",
    "dokumentCursor = sammlung.find({},{\"Name\":True,\"Mail\":True,\"_id\":False})\n",
    "for dokument in dokumentCursor:\n",
    "    print(dokument)\n",
    "\n",
    "\n",
    "####################################################################################################\n",
    "#\n",
    "# Updaten eines ganz bestimmten Dokumentes aus der Datenbank\n",
    "#\n",
    "####################################################################################################\n",
    "\n",
    "print(\"\\nLesen aller Dokumente vor Update\")\n",
    "dokumentCursor = sammlung.find()\n",
    "for dokument in dokumentCursor:\n",
    "    print(dokument)\n",
    "    \n",
    "print(\"\\nUpdate des Dokumentes: peter --> Peter\")\n",
    "sammlung.update_one({\"Vorname\":\"peter\"},{\"$set\":{\"Vorname\":\"Peter\"}})\n",
    "\n",
    "print(\"\\nLesen aller Dokumente nach Update\")\n",
    "dokumentCursor = sammlung.find()\n",
    "for dokument in dokumentCursor:\n",
    "    print(dokument)\n",
    "\n",
    "\n",
    "####################################################################################################\n",
    "#\n",
    "# Loeschen eines ganz bestimmten Dokumentes aus der Datenbank\n",
    "#\n",
    "####################################################################################################\n",
    "\n",
    "print(\"\\nLesen aller Dokumente vor Delete\")\n",
    "dokumentCursor = sammlung.find()\n",
    "for dokument in dokumentCursor:\n",
    "    print(dokument)\n",
    "    \n",
    "print(\"\\nLöschen des Dokumentes: Peter Kessler\")\n",
    "anzDelete = sammlung.delete_one({\"Vorname\":\"Peter\", \"Name\":\"Kessler\"})\n",
    "print(\"Anzahl gelöschter Dokumente: \", anzDelete.deleted_count)\n",
    "\n",
    "print(\"\\nLesen aller Dokumente nach Delete\")\n",
    "dokumentCursor = sammlung.find()\n",
    "for dokument in dokumentCursor:\n",
    "    print(dokument)\n",
    "\n",
    "\n",
    "\n",
    "####################################################################################################\n",
    "#\n",
    "# Loeschen der Dokumente aus der Datenbank\n",
    "#\n",
    "####################################################################################################\n",
    "\n",
    "print(\"\\nLesen aller Dokumente vor Delete all\")\n",
    "dokumentCursor = sammlung.find()\n",
    "for dokument in dokumentCursor:\n",
    "    print(dokument)\n",
    "    \n",
    "print(\"\\nLöschen aller Dokumente\")\n",
    "anzDelete = sammlung.delete_many({})\n",
    "print(\"Anzahl gelöschter Dokumente: \", anzDelete.deleted_count)\n",
    "\n",
    "print(\"\\nLesen aller Dokumente nach Delete all\")\n",
    "dokumentCursor = sammlung.find()\n",
    "for dokument in dokumentCursor:\n",
    "    print(dokument)\n",
    "\n",
    "\n",
    "####################################################################################################\n",
    "#\n",
    "# Loeschen der Collection\n",
    "#\n",
    "####################################################################################################\n",
    "\n",
    "print(\"\\nCollection wird geloescht\")\n",
    "db.drop_collection(COLLECTION_NAME)\n",
    "\n",
    "\n",
    "####################################################################################################\n",
    "#\n",
    "# Loeschen der Datenbank\n",
    "#\n",
    "####################################################################################################\n",
    "\n",
    "print(\"\\nDatenbank wird geloescht\\n\")\n",
    "dbVerbindung.drop_database(DATABASE_NAME)\n"
   ]
  },
  {
   "cell_type": "markdown",
   "metadata": {},
   "source": [
    "That's all Folks"
   ]
  }
 ],
 "metadata": {
  "kernelspec": {
   "display_name": "Python 3",
   "language": "python",
   "name": "python3"
  },
  "language_info": {
   "codemirror_mode": {
    "name": "ipython",
    "version": 3
   },
   "file_extension": ".py",
   "mimetype": "text/x-python",
   "name": "python",
   "nbconvert_exporter": "python",
   "pygments_lexer": "ipython3",
   "version": "3.5.1"
  }
 },
 "nbformat": 4,
 "nbformat_minor": 0
}
